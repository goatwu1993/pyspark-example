{
 "cells": [
  {
   "cell_type": "code",
   "execution_count": 1,
   "metadata": {},
   "outputs": [],
   "source": [
    "from pyspark.sql import SparkSession"
   ]
  },
  {
   "cell_type": "code",
   "execution_count": 2,
   "metadata": {},
   "outputs": [],
   "source": [
    "spark = SparkSession.builder.appName(\"My-App\").getOrCreate()"
   ]
  },
  {
   "cell_type": "code",
   "execution_count": 3,
   "metadata": {},
   "outputs": [],
   "source": [
    "sc = spark.sparkContext"
   ]
  },
  {
   "cell_type": "code",
   "execution_count": 23,
   "metadata": {},
   "outputs": [],
   "source": [
    "list1Rdd = sc.parallelize([(1,\"apple\"),\n",
    "                           (2,\"banana\"),\n",
    "                           (3,\"cat\"),\n",
    "                           (4,\"dog\")])\n",
    "list2Rdd = sc.parallelize([(1,\"pie\"),\n",
    "                           (2,\"cake\"),\n",
    "                           (3,\"food\"),\n",
    "                           (4,\"food\")])\n",
    "list3Rdd = sc.parallelize([\n",
    "                           (2,\"cake\"),\n",
    "                           (3,\"food\"),\n",
    "                           ])"
   ]
  },
  {
   "cell_type": "code",
   "execution_count": 13,
   "metadata": {},
   "outputs": [
    {
     "data": {
      "text/plain": [
       "[(1, ('apple', 'pie')),\n",
       " (2, ('banana', 'cake')),\n",
       " (3, ('cat', 'food')),\n",
       " (4, ('dog', 'food'))]"
      ]
     },
     "execution_count": 13,
     "metadata": {},
     "output_type": "execute_result"
    }
   ],
   "source": [
    "list1Rdd.join(list2Rdd).collect()"
   ]
  },
  {
   "cell_type": "code",
   "execution_count": 44,
   "metadata": {},
   "outputs": [
    {
     "data": {
      "text/plain": [
       "[(1, (['apple'], ['pie'])),\n",
       " (2, (['banana'], ['cake'])),\n",
       " (3, (['cat'], ['food'])),\n",
       " (4, (['dog'], ['food']))]"
      ]
     },
     "execution_count": 44,
     "metadata": {},
     "output_type": "execute_result"
    }
   ],
   "source": [
    "[(x,tuple(map(list, y))) for \n",
    " x,y in list1Rdd.cogroup(list2Rdd).collect()]"
   ]
  },
  {
   "cell_type": "code",
   "execution_count": 45,
   "metadata": {},
   "outputs": [
    {
     "data": {
      "text/plain": [
       "[(1, (['apple'], [])),\n",
       " (2, (['banana'], ['cake'])),\n",
       " (3, (['cat'], ['food'])),\n",
       " (4, (['dog'], []))]"
      ]
     },
     "execution_count": 45,
     "metadata": {},
     "output_type": "execute_result"
    }
   ],
   "source": [
    "[(x,tuple(map(list, y))) for \n",
    " x,y in list1Rdd.cogroup(list3Rdd).collect()]"
   ]
  },
  {
   "cell_type": "markdown",
   "metadata": {},
   "source": [
    "## Reference\n",
    "\n",
    "  - <https://blog.csdn.net/u013514928/article/details/56680825?depth_1-utm_source=distribute.pc_relevant.none-task&utm_source=distribute.pc_relevant.none-task>"
   ]
  }
 ],
 "metadata": {
  "kernelspec": {
   "display_name": "Python 3.7.4 64-bit ('conda-env': conda)",
   "language": "python",
   "name": "python37464bitcondaenvconda3f4d7783b740440a9c80fd58cd6c0e7e"
  },
  "language_info": {
   "codemirror_mode": {
    "name": "ipython",
    "version": 3
   },
   "file_extension": ".py",
   "mimetype": "text/x-python",
   "name": "python",
   "nbconvert_exporter": "python",
   "pygments_lexer": "ipython3",
   "version": "3.7.4"
  }
 },
 "nbformat": 4,
 "nbformat_minor": 2
}
