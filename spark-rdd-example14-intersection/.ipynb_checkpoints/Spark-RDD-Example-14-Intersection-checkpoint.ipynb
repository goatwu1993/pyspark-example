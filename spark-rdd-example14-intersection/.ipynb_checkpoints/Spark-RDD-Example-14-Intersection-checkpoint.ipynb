{
 "cells": [
  {
   "cell_type": "code",
   "execution_count": 1,
   "metadata": {},
   "outputs": [],
   "source": [
    "from pyspark.sql import SparkSession"
   ]
  },
  {
   "cell_type": "code",
   "execution_count": 2,
   "metadata": {},
   "outputs": [],
   "source": [
    "spark = SparkSession.builder.appName(\"My-App\").getOrCreate()"
   ]
  },
  {
   "cell_type": "code",
   "execution_count": 3,
   "metadata": {},
   "outputs": [],
   "source": [
    "sc = spark.sparkContext"
   ]
  },
  {
   "cell_type": "code",
   "execution_count": 4,
   "metadata": {},
   "outputs": [],
   "source": [
    "nums1 = range(10)\n",
    "nums2 = range(5,15)"
   ]
  },
  {
   "cell_type": "code",
   "execution_count": 5,
   "metadata": {},
   "outputs": [],
   "source": [
    "nums1Rdd = sc.parallelize(nums1)\n",
    "nums2Rdd = sc.parallelize(nums2)"
   ]
  },
  {
   "cell_type": "code",
   "execution_count": 6,
   "metadata": {},
   "outputs": [],
   "source": [
    "evens1 = nums1Rdd.map(lambda x: x-1 if x%2 !=0 else x)\n",
    "evens2 = nums2Rdd.map(lambda x: x-1 if x%2 !=0 else x)"
   ]
  },
  {
   "cell_type": "code",
   "execution_count": 7,
   "metadata": {},
   "outputs": [],
   "source": [
    "nums1Tuple = evens1.map(lambda x: (x,1))\n",
    "nums2Tuple = evens2.map(lambda x: (x,1))"
   ]
  },
  {
   "cell_type": "code",
   "execution_count": 8,
   "metadata": {},
   "outputs": [
    {
     "data": {
      "text/plain": [
       "[(8, (1, 1)),\n",
       " (8, (1, 1)),\n",
       " (8, (1, 1)),\n",
       " (8, (1, 1)),\n",
       " (4, (1, 1)),\n",
       " (4, (1, 1)),\n",
       " (6, (1, 1)),\n",
       " (6, (1, 1)),\n",
       " (6, (1, 1)),\n",
       " (6, (1, 1))]"
      ]
     },
     "execution_count": 8,
     "metadata": {},
     "output_type": "execute_result"
    }
   ],
   "source": [
    "nums1Tuple.join(nums2Tuple).collect()"
   ]
  },
  {
   "cell_type": "code",
   "execution_count": 9,
   "metadata": {},
   "outputs": [
    {
     "data": {
      "text/plain": [
       "[(0, (1, None)),\n",
       " (0, (1, None)),\n",
       " (2, (1, None)),\n",
       " (2, (1, None)),\n",
       " (4, (1, 1)),\n",
       " (4, (1, 1)),\n",
       " (6, (1, 1)),\n",
       " (6, (1, 1)),\n",
       " (6, (1, 1)),\n",
       " (6, (1, 1)),\n",
       " (8, (1, 1)),\n",
       " (8, (1, 1)),\n",
       " (8, (1, 1)),\n",
       " (8, (1, 1))]"
      ]
     },
     "execution_count": 9,
     "metadata": {},
     "output_type": "execute_result"
    }
   ],
   "source": [
    "nums1Tuple.leftOuterJoin(nums2Tuple).sortByKey().collect()"
   ]
  },
  {
   "cell_type": "code",
   "execution_count": 10,
   "metadata": {},
   "outputs": [
    {
     "data": {
      "text/plain": [
       "[(4, (1, 1)),\n",
       " (4, (1, 1)),\n",
       " (6, (1, 1)),\n",
       " (6, (1, 1)),\n",
       " (6, (1, 1)),\n",
       " (6, (1, 1)),\n",
       " (8, (1, 1)),\n",
       " (8, (1, 1)),\n",
       " (8, (1, 1)),\n",
       " (8, (1, 1)),\n",
       " (10, (None, 1)),\n",
       " (10, (None, 1)),\n",
       " (12, (None, 1)),\n",
       " (12, (None, 1)),\n",
       " (14, (None, 1))]"
      ]
     },
     "execution_count": 10,
     "metadata": {},
     "output_type": "execute_result"
    }
   ],
   "source": [
    "nums1Tuple.rightOuterJoin(nums2Tuple).sortByKey().collect()"
   ]
  },
  {
   "cell_type": "code",
   "execution_count": 11,
   "metadata": {},
   "outputs": [
    {
     "data": {
      "text/plain": [
       "[(0, (1, None)),\n",
       " (0, (1, None)),\n",
       " (2, (1, None)),\n",
       " (2, (1, None)),\n",
       " (4, (1, 1)),\n",
       " (4, (1, 1)),\n",
       " (6, (1, 1)),\n",
       " (6, (1, 1)),\n",
       " (6, (1, 1)),\n",
       " (6, (1, 1)),\n",
       " (8, (1, 1)),\n",
       " (8, (1, 1)),\n",
       " (8, (1, 1)),\n",
       " (8, (1, 1)),\n",
       " (10, (None, 1)),\n",
       " (10, (None, 1)),\n",
       " (12, (None, 1)),\n",
       " (12, (None, 1)),\n",
       " (14, (None, 1))]"
      ]
     },
     "execution_count": 11,
     "metadata": {},
     "output_type": "execute_result"
    }
   ],
   "source": [
    "nums1Tuple.fullOuterJoin(nums2Tuple).sortByKey().collect()"
   ]
  },
  {
   "cell_type": "code",
   "execution_count": 12,
   "metadata": {},
   "outputs": [
    {
     "data": {
      "text/plain": [
       "[(0, 1),\n",
       " (0, 1),\n",
       " (2, 1),\n",
       " (2, 1),\n",
       " (4, 1),\n",
       " (4, 1),\n",
       " (4, 1),\n",
       " (6, 1),\n",
       " (6, 1),\n",
       " (6, 1),\n",
       " (6, 1),\n",
       " (8, 1),\n",
       " (8, 1),\n",
       " (8, 1),\n",
       " (8, 1),\n",
       " (10, 1),\n",
       " (10, 1),\n",
       " (12, 1),\n",
       " (12, 1),\n",
       " (14, 1)]"
      ]
     },
     "execution_count": 12,
     "metadata": {},
     "output_type": "execute_result"
    }
   ],
   "source": [
    "nums1Tuple.union(nums2Tuple).sortByKey().collect()"
   ]
  },
  {
   "cell_type": "markdown",
   "metadata": {},
   "source": [
    "## Reference\n",
    "\n",
    "  - <https://blog.csdn.net/helloxiaozhe/article/details/88908134?depth_1-utm_source=distribute.pc_relevant.none-task&utm_source=distribute.pc_relevant.none-task>"
   ]
  }
 ],
 "metadata": {
  "kernelspec": {
   "display_name": "Python 3.7.4 64-bit ('conda-env': conda)",
   "language": "python",
   "name": "python37464bitcondaenvconda3f4d7783b740440a9c80fd58cd6c0e7e"
  },
  "language_info": {
   "codemirror_mode": {
    "name": "ipython",
    "version": 3
   },
   "file_extension": ".py",
   "mimetype": "text/x-python",
   "name": "python",
   "nbconvert_exporter": "python",
   "pygments_lexer": "ipython3",
   "version": "3.7.4"
  }
 },
 "nbformat": 4,
 "nbformat_minor": 2
}
