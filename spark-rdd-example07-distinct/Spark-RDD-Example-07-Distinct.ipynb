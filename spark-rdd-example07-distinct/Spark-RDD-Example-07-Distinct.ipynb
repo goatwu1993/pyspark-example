{
 "cells": [
  {
   "cell_type": "code",
   "execution_count": 1,
   "metadata": {},
   "outputs": [],
   "source": [
    "from pyspark.sql import SparkSession"
   ]
  },
  {
   "cell_type": "code",
   "execution_count": 2,
   "metadata": {},
   "outputs": [],
   "source": [
    "spark = SparkSession.builder.appName(\"RDD-Example-7\").getOrCreate()"
   ]
  },
  {
   "cell_type": "code",
   "execution_count": 3,
   "metadata": {},
   "outputs": [],
   "source": [
    "sc = spark.sparkContext"
   ]
  },
  {
   "cell_type": "code",
   "execution_count": 4,
   "metadata": {},
   "outputs": [],
   "source": [
    "words = ['apple','apple','apple',\n",
    "         'banana','banana','banana','banana',\n",
    "         'cat','cat','cat',\n",
    "         'dog',\n",
    "         'elephant',\n",
    "         'frog']"
   ]
  },
  {
   "cell_type": "code",
   "execution_count": 5,
   "metadata": {},
   "outputs": [],
   "source": [
    "wordsRdd = sc.parallelize(words)"
   ]
  },
  {
   "cell_type": "code",
   "execution_count": 6,
   "metadata": {},
   "outputs": [
    {
     "data": {
      "text/plain": [
       "['apple', 'apple', 'apple', 'banana', 'banana']"
      ]
     },
     "execution_count": 6,
     "metadata": {},
     "output_type": "execute_result"
    }
   ],
   "source": [
    "wordsRdd.take(5)"
   ]
  },
  {
   "cell_type": "code",
   "execution_count": 7,
   "metadata": {},
   "outputs": [],
   "source": [
    "wordsRdd_tuple = wordsRdd.map(lambda x : (x,1))"
   ]
  },
  {
   "cell_type": "code",
   "execution_count": 8,
   "metadata": {},
   "outputs": [
    {
     "data": {
      "text/plain": [
       "[('apple', 1), ('apple', 1), ('apple', 1), ('banana', 1), ('banana', 1)]"
      ]
     },
     "execution_count": 8,
     "metadata": {},
     "output_type": "execute_result"
    }
   ],
   "source": [
    "wordsRdd_tuple.take(5)"
   ]
  },
  {
   "cell_type": "code",
   "execution_count": 9,
   "metadata": {},
   "outputs": [],
   "source": [
    "wordsRdd_Grouped = wordsRdd_tuple.groupByKey()"
   ]
  },
  {
   "cell_type": "code",
   "execution_count": 10,
   "metadata": {},
   "outputs": [
    {
     "data": {
      "text/plain": [
       "[('cat', <pyspark.resultiterable.ResultIterable at 0x10b25ebd0>),\n",
       " ('elephant', <pyspark.resultiterable.ResultIterable at 0x10b25f890>),\n",
       " ('frog', <pyspark.resultiterable.ResultIterable at 0x10b25f850>),\n",
       " ('banana', <pyspark.resultiterable.ResultIterable at 0x10b25f410>),\n",
       " ('apple', <pyspark.resultiterable.ResultIterable at 0x10b25f950>)]"
      ]
     },
     "execution_count": 10,
     "metadata": {},
     "output_type": "execute_result"
    }
   ],
   "source": [
    "wordsRdd_Grouped.take(5)"
   ]
  },
  {
   "cell_type": "code",
   "execution_count": 11,
   "metadata": {},
   "outputs": [
    {
     "data": {
      "text/plain": [
       "[('cat', <pyspark.resultiterable.ResultIterable at 0x10b25ed90>),\n",
       " ('elephant', <pyspark.resultiterable.ResultIterable at 0x10b25e5d0>),\n",
       " ('frog', <pyspark.resultiterable.ResultIterable at 0x10b25edd0>),\n",
       " ('banana', <pyspark.resultiterable.ResultIterable at 0x10b25ec10>),\n",
       " ('apple', <pyspark.resultiterable.ResultIterable at 0x10b25ec50>),\n",
       " ('dog', <pyspark.resultiterable.ResultIterable at 0x10b25eb90>)]"
      ]
     },
     "execution_count": 11,
     "metadata": {},
     "output_type": "execute_result"
    }
   ],
   "source": [
    "wordsRdd_Grouped.collect()"
   ]
  },
  {
   "cell_type": "code",
   "execution_count": 12,
   "metadata": {},
   "outputs": [],
   "source": [
    "wordsRdd_Count = wordsRdd_Grouped.map(lambda x : (x[0],sum(x[1])))"
   ]
  },
  {
   "cell_type": "code",
   "execution_count": 13,
   "metadata": {},
   "outputs": [
    {
     "data": {
      "text/plain": [
       "[('cat', 3), ('elephant', 1), ('frog', 1), ('banana', 4), ('apple', 3)]"
      ]
     },
     "execution_count": 13,
     "metadata": {},
     "output_type": "execute_result"
    }
   ],
   "source": [
    "wordsRdd_Count.take(5)"
   ]
  },
  {
   "cell_type": "code",
   "execution_count": 14,
   "metadata": {},
   "outputs": [
    {
     "data": {
      "text/plain": [
       "[('cat', 3),\n",
       " ('elephant', 1),\n",
       " ('frog', 1),\n",
       " ('banana', 4),\n",
       " ('apple', 3),\n",
       " ('dog', 1)]"
      ]
     },
     "execution_count": 14,
     "metadata": {},
     "output_type": "execute_result"
    }
   ],
   "source": [
    "wordsRdd_Count.collect()"
   ]
  },
  {
   "cell_type": "code",
   "execution_count": 18,
   "metadata": {},
   "outputs": [
    {
     "data": {
      "text/plain": [
       "['cat', 'elephant', 'frog', 'banana', 'apple', 'dog']"
      ]
     },
     "execution_count": 18,
     "metadata": {},
     "output_type": "execute_result"
    }
   ],
   "source": [
    "wordsRdd.distinct().collect()"
   ]
  },
  {
   "cell_type": "code",
   "execution_count": 16,
   "metadata": {
    "scrolled": false
   },
   "outputs": [
    {
     "data": {
      "text/plain": [
       "['elephant', 'frog', 'dog']"
      ]
     },
     "execution_count": 16,
     "metadata": {},
     "output_type": "execute_result"
    }
   ],
   "source": [
    "wordsRdd_Count.filter(lambda x: x[1]==1).map(lambda x: x[0]).collect()"
   ]
  },
  {
   "cell_type": "markdown",
   "metadata": {},
   "source": [
    "## Reference\n",
    "\n",
    "- <https://blog.csdn.net/xingxing1839381/article/details/81273282>\n",
    "- <https://blog.csdn.net/chongjiapi1753/article/details/100940132?depth_1-utm_source=distribute.pc_relevant.none-task&utm_source=distribute.pc_relevant.none-task>"
   ]
  }
 ],
 "metadata": {
  "kernelspec": {
   "display_name": "Python 3.7.4 64-bit ('conda-env': conda)",
   "language": "python",
   "name": "python37464bitcondaenvconda3f4d7783b740440a9c80fd58cd6c0e7e"
  },
  "language_info": {
   "codemirror_mode": {
    "name": "ipython",
    "version": 3
   },
   "file_extension": ".py",
   "mimetype": "text/x-python",
   "name": "python",
   "nbconvert_exporter": "python",
   "pygments_lexer": "ipython3",
   "version": "3.7.4"
  }
 },
 "nbformat": 4,
 "nbformat_minor": 2
}
