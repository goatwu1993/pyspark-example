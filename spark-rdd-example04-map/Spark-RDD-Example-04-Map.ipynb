{
 "cells": [
  {
   "cell_type": "code",
   "execution_count": 1,
   "metadata": {},
   "outputs": [],
   "source": [
    "from pyspark.sql import SparkSession"
   ]
  },
  {
   "cell_type": "code",
   "execution_count": 2,
   "metadata": {},
   "outputs": [],
   "source": [
    "spark = SparkSession.builder.appName(\"RDD-Example4\").getOrCreate()\n",
    "sc = spark.sparkContext"
   ]
  },
  {
   "cell_type": "code",
   "execution_count": 3,
   "metadata": {},
   "outputs": [],
   "source": [
    "nums = range(1000000)"
   ]
  },
  {
   "cell_type": "code",
   "execution_count": 20,
   "metadata": {},
   "outputs": [],
   "source": [
    "words = ['apple','banana','cat','dog', 'elephant', 'frog']"
   ]
  },
  {
   "cell_type": "code",
   "execution_count": 21,
   "metadata": {},
   "outputs": [],
   "source": [
    "numsRdd = sc.parallelize(nums,4)\n",
    "wordsRdd = sc.parallelize(words,2)"
   ]
  },
  {
   "cell_type": "code",
   "execution_count": 22,
   "metadata": {},
   "outputs": [
    {
     "name": "stdout",
     "output_type": "stream",
     "text": [
      "<class 'pyspark.rdd.PipelinedRDD'>\n",
      "Number of partitions :  4\n",
      "<class 'pyspark.rdd.RDD'>\n",
      "Number of partitions :  2\n"
     ]
    }
   ],
   "source": [
    "print(type(numsRdd))\n",
    "print(\"Number of partitions : \",numsRdd.getNumPartitions())\n",
    "print(type(wordsRdd))\n",
    "print(\"Number of partitions : \",wordsRdd.getNumPartitions())"
   ]
  },
  {
   "cell_type": "code",
   "execution_count": 23,
   "metadata": {},
   "outputs": [
    {
     "name": "stdout",
     "output_type": "stream",
     "text": [
      "[0, 1, 2, 3, 4]\n",
      "[0, 1, 4, 9, 16]\n"
     ]
    }
   ],
   "source": [
    "print(numsRdd.take(5))\n",
    "nums_squared = numsRdd.map(lambda x: x*x)\n",
    "print(nums_squared.take(5))"
   ]
  },
  {
   "cell_type": "code",
   "execution_count": 26,
   "metadata": {},
   "outputs": [
    {
     "name": "stdout",
     "output_type": "stream",
     "text": [
      "['apple', 'banana', 'cat', 'dog', 'elephant']\n",
      "['I like apple', 'I like banana', 'I like cat', 'I like dog', 'I like elephant']\n"
     ]
    }
   ],
   "source": [
    "print(wordsRdd.take(5))\n",
    "works_I_Like = wordsRdd.map(lambda x: \"I like \"+x)\n",
    "print(works_I_Like.take(5))"
   ]
  },
  {
   "cell_type": "markdown",
   "metadata": {},
   "source": [
    "## Reference\n",
    "\n",
    "  - <https://www.programcreek.com/python/example/100654/pyspark.sql.SparkSession>\n",
    "  - <https://blog.csdn.net/xingxing1839381/article/details/81273282>"
   ]
  },
  {
   "cell_type": "code",
   "execution_count": null,
   "metadata": {},
   "outputs": [],
   "source": []
  }
 ],
 "metadata": {
  "kernelspec": {
   "display_name": "Python 3.7.4 64-bit ('conda-env': conda)",
   "language": "python",
   "name": "python37464bitcondaenvconda3f4d7783b740440a9c80fd58cd6c0e7e"
  },
  "language_info": {
   "codemirror_mode": {
    "name": "ipython",
    "version": 3
   },
   "file_extension": ".py",
   "mimetype": "text/x-python",
   "name": "python",
   "nbconvert_exporter": "python",
   "pygments_lexer": "ipython3",
   "version": "3.7.4"
  }
 },
 "nbformat": 4,
 "nbformat_minor": 2
}
